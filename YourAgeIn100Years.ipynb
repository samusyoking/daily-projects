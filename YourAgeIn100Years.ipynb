{
 "cells": [
  {
   "cell_type": "code",
   "execution_count": 15,
   "id": "596c79d7",
   "metadata": {},
   "outputs": [
    {
     "name": "stdout",
     "output_type": "stream",
     "text": [
      "What is your name: sam\n",
      "How old are you: 10\n",
      "sam, you will be 100 years old in the year 2112\n"
     ]
    }
   ],
   "source": [
    "#Create a program that asks the user to enter their name and their age. \n",
    "#Print out a message addressed to them that tells them the year that they will turn 100 years old.\n",
    "\n",
    "import datetime\n",
    "from datetime import date\n",
    "today = date.today()\n",
    "\n",
    "\n",
    "name = input(\"What is your name: \")\n",
    "\n",
    "age = int(input(\"How old are you: \"))\n",
    "century = today.year - age + 100\n",
    "print(name + \", you will be 100 years old in the year \" + str(century))"
   ]
  },
  {
   "cell_type": "code",
   "execution_count": null,
   "id": "f68de7d1",
   "metadata": {},
   "outputs": [],
   "source": []
  },
  {
   "cell_type": "code",
   "execution_count": null,
   "id": "df26ed9c",
   "metadata": {},
   "outputs": [],
   "source": []
  }
 ],
 "metadata": {
  "kernelspec": {
   "display_name": "Python 3 (ipykernel)",
   "language": "python",
   "name": "python3"
  },
  "language_info": {
   "codemirror_mode": {
    "name": "ipython",
    "version": 3
   },
   "file_extension": ".py",
   "mimetype": "text/x-python",
   "name": "python",
   "nbconvert_exporter": "python",
   "pygments_lexer": "ipython3",
   "version": "3.9.7"
  }
 },
 "nbformat": 4,
 "nbformat_minor": 5
}
